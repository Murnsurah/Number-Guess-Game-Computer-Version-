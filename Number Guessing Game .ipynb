{
 "cells": [
  {
   "cell_type": "markdown",
   "id": "9e5c07ef",
   "metadata": {},
   "source": [
    "## Number Guessing Game (computer version)\n"
   ]
  },
  {
   "cell_type": "code",
   "execution_count": null,
   "id": "41d1cc06",
   "metadata": {},
   "outputs": [],
   "source": [
    "#Get the computer to generate a number\n",
    "from random import randint\n",
    "def guess(x):\n",
    "    guess = 0\n",
    "    random_number = randint(1,x)\n",
    "    while guess != random_number:\n",
    "        guess = int(input('Enter any number between 1 and x: '))\n",
    "        if guess > random_number:\n",
    "            print('you guessed too high')\n",
    "        elif guess < random_number:\n",
    "            print('you guessed too low')\n",
    "    \n",
    "    print(f'Yayy you guessed correctly and it is {random_number}')\n",
    "guess(10)"
   ]
  },
  {
   "cell_type": "code",
   "execution_count": null,
   "id": "e34acc1b",
   "metadata": {},
   "outputs": [],
   "source": []
  }
 ],
 "metadata": {
  "kernelspec": {
   "display_name": "Python 3 (ipykernel)",
   "language": "python",
   "name": "python3"
  },
  "language_info": {
   "codemirror_mode": {
    "name": "ipython",
    "version": 3
   },
   "file_extension": ".py",
   "mimetype": "text/x-python",
   "name": "python",
   "nbconvert_exporter": "python",
   "pygments_lexer": "ipython3",
   "version": "3.9.13"
  }
 },
 "nbformat": 4,
 "nbformat_minor": 5
}
